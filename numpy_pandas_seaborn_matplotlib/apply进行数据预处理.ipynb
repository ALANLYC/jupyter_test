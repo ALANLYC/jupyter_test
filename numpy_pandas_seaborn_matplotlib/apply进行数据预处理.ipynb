{
 "cells": [
  {
   "cell_type": "code",
   "execution_count": 1,
   "metadata": {},
   "outputs": [],
   "source": [
    "import numpy as np\n",
    "import pandas as pd\n",
    "from pandas import Series,DataFrame"
   ]
  },
  {
   "cell_type": "code",
   "execution_count": 2,
   "metadata": {},
   "outputs": [],
   "source": [
    "df = pd.read_csv(\"E:\\测试\\jupyter\\df2.csv\")"
   ]
  },
  {
   "cell_type": "code",
   "execution_count": 7,
   "metadata": {},
   "outputs": [
    {
     "data": {
      "text/html": [
       "<div>\n",
       "<style scoped>\n",
       "    .dataframe tbody tr th:only-of-type {\n",
       "        vertical-align: middle;\n",
       "    }\n",
       "\n",
       "    .dataframe tbody tr th {\n",
       "        vertical-align: top;\n",
       "    }\n",
       "\n",
       "    .dataframe thead th {\n",
       "        text-align: right;\n",
       "    }\n",
       "</style>\n",
       "<table border=\"1\" class=\"dataframe\">\n",
       "  <thead>\n",
       "    <tr style=\"text-align: right;\">\n",
       "      <th></th>\n",
       "      <th>Unnamed: 0</th>\n",
       "      <th>0</th>\n",
       "      <th>1</th>\n",
       "      <th>2</th>\n",
       "      <th>3</th>\n",
       "      <th>4</th>\n",
       "      <th>5</th>\n",
       "    </tr>\n",
       "  </thead>\n",
       "  <tbody>\n",
       "    <tr>\n",
       "      <th>0</th>\n",
       "      <td>Name:</td>\n",
       "      <td>21</td>\n",
       "      <td>项目名称</td>\n",
       "      <td>Name:</td>\n",
       "      <td>22</td>\n",
       "      <td>项目名称</td>\n",
       "      <td>Name:</td>\n",
       "    </tr>\n",
       "    <tr>\n",
       "      <th>1</th>\n",
       "      <td>20,</td>\n",
       "      <td>序号</td>\n",
       "      <td>机械臂</td>\n",
       "      <td>21,</td>\n",
       "      <td>序号</td>\n",
       "      <td>飞行升力的控制以及数值显示</td>\n",
       "      <td>22,</td>\n",
       "    </tr>\n",
       "    <tr>\n",
       "      <th>2</th>\n",
       "      <td>dtype:</td>\n",
       "      <td>22</td>\n",
       "      <td>NaN</td>\n",
       "      <td>dtype:</td>\n",
       "      <td>23</td>\n",
       "      <td>NaN</td>\n",
       "      <td>dtype:</td>\n",
       "    </tr>\n",
       "    <tr>\n",
       "      <th>3</th>\n",
       "      <td>object</td>\n",
       "      <td>NaN</td>\n",
       "      <td>NaN</td>\n",
       "      <td>object</td>\n",
       "      <td>NaN</td>\n",
       "      <td>NaN</td>\n",
       "      <td>object</td>\n",
       "    </tr>\n",
       "  </tbody>\n",
       "</table>\n",
       "</div>"
      ],
      "text/plain": [
       "  Unnamed: 0    0     1       2    3              4       5\n",
       "0      Name:   21  项目名称   Name:   22           项目名称   Name:\n",
       "1        20,   序号   机械臂     21,   序号  飞行升力的控制以及数值显示     22,\n",
       "2     dtype:   22   NaN  dtype:   23            NaN  dtype:\n",
       "3     object  NaN   NaN  object  NaN            NaN  object"
      ]
     },
     "execution_count": 7,
     "metadata": {},
     "output_type": "execute_result"
    }
   ],
   "source": [
    "df.head()"
   ]
  },
  {
   "cell_type": "code",
   "execution_count": 5,
   "metadata": {},
   "outputs": [
    {
     "data": {
      "text/plain": [
       "28"
      ]
     },
     "execution_count": 5,
     "metadata": {},
     "output_type": "execute_result"
    }
   ],
   "source": [
    "df.size"
   ]
  },
  {
   "cell_type": "code",
   "execution_count": 6,
   "metadata": {},
   "outputs": [
    {
     "data": {
      "text/html": [
       "<div>\n",
       "<style scoped>\n",
       "    .dataframe tbody tr th:only-of-type {\n",
       "        vertical-align: middle;\n",
       "    }\n",
       "\n",
       "    .dataframe tbody tr th {\n",
       "        vertical-align: top;\n",
       "    }\n",
       "\n",
       "    .dataframe thead th {\n",
       "        text-align: right;\n",
       "    }\n",
       "</style>\n",
       "<table border=\"1\" class=\"dataframe\">\n",
       "  <thead>\n",
       "    <tr style=\"text-align: right;\">\n",
       "      <th></th>\n",
       "      <th>Unnamed: 0</th>\n",
       "      <th>0</th>\n",
       "      <th>1</th>\n",
       "      <th>2</th>\n",
       "      <th>3</th>\n",
       "      <th>4</th>\n",
       "      <th>5</th>\n",
       "    </tr>\n",
       "  </thead>\n",
       "  <tbody>\n",
       "    <tr>\n",
       "      <th>0</th>\n",
       "      <td>Name:</td>\n",
       "      <td>21</td>\n",
       "      <td>项目名称</td>\n",
       "      <td>Name:</td>\n",
       "      <td>22</td>\n",
       "      <td>项目名称</td>\n",
       "      <td>Name:</td>\n",
       "    </tr>\n",
       "    <tr>\n",
       "      <th>1</th>\n",
       "      <td>20,</td>\n",
       "      <td>序号</td>\n",
       "      <td>机械臂</td>\n",
       "      <td>21,</td>\n",
       "      <td>序号</td>\n",
       "      <td>飞行升力的控制以及数值显示</td>\n",
       "      <td>22,</td>\n",
       "    </tr>\n",
       "    <tr>\n",
       "      <th>2</th>\n",
       "      <td>dtype:</td>\n",
       "      <td>22</td>\n",
       "      <td>NaN</td>\n",
       "      <td>dtype:</td>\n",
       "      <td>23</td>\n",
       "      <td>NaN</td>\n",
       "      <td>dtype:</td>\n",
       "    </tr>\n",
       "    <tr>\n",
       "      <th>3</th>\n",
       "      <td>object</td>\n",
       "      <td>NaN</td>\n",
       "      <td>NaN</td>\n",
       "      <td>object</td>\n",
       "      <td>NaN</td>\n",
       "      <td>NaN</td>\n",
       "      <td>object</td>\n",
       "    </tr>\n",
       "  </tbody>\n",
       "</table>\n",
       "</div>"
      ],
      "text/plain": [
       "  Unnamed: 0    0     1       2    3              4       5\n",
       "0      Name:   21  项目名称   Name:   22           项目名称   Name:\n",
       "1        20,   序号   机械臂     21,   序号  飞行升力的控制以及数值显示     22,\n",
       "2     dtype:   22   NaN  dtype:   23            NaN  dtype:\n",
       "3     object  NaN   NaN  object  NaN            NaN  object"
      ]
     },
     "execution_count": 6,
     "metadata": {},
     "output_type": "execute_result"
    }
   ],
   "source": [
    "df"
   ]
  },
  {
   "cell_type": "code",
   "execution_count": 11,
   "metadata": {},
   "outputs": [],
   "source": [
    "df['5'] = df['5'].apply(str.upper)"
   ]
  },
  {
   "cell_type": "code",
   "execution_count": 12,
   "metadata": {},
   "outputs": [
    {
     "data": {
      "text/html": [
       "<div>\n",
       "<style scoped>\n",
       "    .dataframe tbody tr th:only-of-type {\n",
       "        vertical-align: middle;\n",
       "    }\n",
       "\n",
       "    .dataframe tbody tr th {\n",
       "        vertical-align: top;\n",
       "    }\n",
       "\n",
       "    .dataframe thead th {\n",
       "        text-align: right;\n",
       "    }\n",
       "</style>\n",
       "<table border=\"1\" class=\"dataframe\">\n",
       "  <thead>\n",
       "    <tr style=\"text-align: right;\">\n",
       "      <th></th>\n",
       "      <th>Unnamed: 0</th>\n",
       "      <th>0</th>\n",
       "      <th>1</th>\n",
       "      <th>2</th>\n",
       "      <th>3</th>\n",
       "      <th>4</th>\n",
       "      <th>5</th>\n",
       "    </tr>\n",
       "  </thead>\n",
       "  <tbody>\n",
       "    <tr>\n",
       "      <th>0</th>\n",
       "      <td>Name:</td>\n",
       "      <td>21</td>\n",
       "      <td>项目名称</td>\n",
       "      <td>Name:</td>\n",
       "      <td>22</td>\n",
       "      <td>项目名称</td>\n",
       "      <td>NAME:</td>\n",
       "    </tr>\n",
       "    <tr>\n",
       "      <th>1</th>\n",
       "      <td>20,</td>\n",
       "      <td>序号</td>\n",
       "      <td>机械臂</td>\n",
       "      <td>21,</td>\n",
       "      <td>序号</td>\n",
       "      <td>飞行升力的控制以及数值显示</td>\n",
       "      <td>22,</td>\n",
       "    </tr>\n",
       "    <tr>\n",
       "      <th>2</th>\n",
       "      <td>dtype:</td>\n",
       "      <td>22</td>\n",
       "      <td>NaN</td>\n",
       "      <td>dtype:</td>\n",
       "      <td>23</td>\n",
       "      <td>NaN</td>\n",
       "      <td>DTYPE:</td>\n",
       "    </tr>\n",
       "    <tr>\n",
       "      <th>3</th>\n",
       "      <td>object</td>\n",
       "      <td>NaN</td>\n",
       "      <td>NaN</td>\n",
       "      <td>object</td>\n",
       "      <td>NaN</td>\n",
       "      <td>NaN</td>\n",
       "      <td>OBJECT</td>\n",
       "    </tr>\n",
       "  </tbody>\n",
       "</table>\n",
       "</div>"
      ],
      "text/plain": [
       "  Unnamed: 0    0     1       2    3              4       5\n",
       "0      Name:   21  项目名称   Name:   22           项目名称   NAME:\n",
       "1        20,   序号   机械臂     21,   序号  飞行升力的控制以及数值显示     22,\n",
       "2     dtype:   22   NaN  dtype:   23            NaN  DTYPE:\n",
       "3     object  NaN   NaN  object  NaN            NaN  OBJECT"
      ]
     },
     "execution_count": 12,
     "metadata": {},
     "output_type": "execute_result"
    }
   ],
   "source": [
    "df"
   ]
  },
  {
   "cell_type": "code",
   "execution_count": null,
   "metadata": {},
   "outputs": [],
   "source": [
    "#通过split进行分割，返回为列表\n"
   ]
  }
 ],
 "metadata": {
  "kernelspec": {
   "display_name": "Python 3",
   "language": "python",
   "name": "python3"
  },
  "language_info": {
   "codemirror_mode": {
    "name": "ipython",
    "version": 3
   },
   "file_extension": ".py",
   "mimetype": "text/x-python",
   "name": "python",
   "nbconvert_exporter": "python",
   "pygments_lexer": "ipython3",
   "version": "3.6.6"
  }
 },
 "nbformat": 4,
 "nbformat_minor": 2
}
