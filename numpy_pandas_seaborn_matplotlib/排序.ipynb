{
 "cells": [
  {
   "cell_type": "code",
   "execution_count": 1,
   "metadata": {},
   "outputs": [],
   "source": [
    "import numpy as np\n",
    "import pandas as pd\n",
    "from pandas import Series,DataFrame"
   ]
  },
  {
   "cell_type": "code",
   "execution_count": 2,
   "metadata": {},
   "outputs": [],
   "source": [
    "s1=Series(np.random.randn(10))"
   ]
  },
  {
   "cell_type": "code",
   "execution_count": 3,
   "metadata": {},
   "outputs": [
    {
     "data": {
      "text/plain": [
       "0   -0.089994\n",
       "1   -0.798116\n",
       "2   -0.968052\n",
       "3    2.225078\n",
       "4    0.546295\n",
       "5   -0.114663\n",
       "6    0.054393\n",
       "7    0.041566\n",
       "8   -1.941524\n",
       "9    0.621641\n",
       "dtype: float64"
      ]
     },
     "execution_count": 3,
     "metadata": {},
     "output_type": "execute_result"
    }
   ],
   "source": [
    "s1"
   ]
  },
  {
   "cell_type": "code",
   "execution_count": 5,
   "metadata": {},
   "outputs": [],
   "source": [
    "s2=s1.sort_values(ascending=False,)"
   ]
  },
  {
   "cell_type": "code",
   "execution_count": 6,
   "metadata": {},
   "outputs": [
    {
     "data": {
      "text/plain": [
       "3    2.225078\n",
       "9    0.621641\n",
       "4    0.546295\n",
       "6    0.054393\n",
       "7    0.041566\n",
       "0   -0.089994\n",
       "5   -0.114663\n",
       "1   -0.798116\n",
       "2   -0.968052\n",
       "8   -1.941524\n",
       "dtype: float64"
      ]
     },
     "execution_count": 6,
     "metadata": {},
     "output_type": "execute_result"
    }
   ],
   "source": [
    "s2"
   ]
  },
  {
   "cell_type": "code",
   "execution_count": 7,
   "metadata": {},
   "outputs": [],
   "source": [
    "df1=DataFrame(np.random.randn(40).reshape(8,5),columns=['a','b','c','d','e'])"
   ]
  },
  {
   "cell_type": "code",
   "execution_count": 8,
   "metadata": {},
   "outputs": [
    {
     "data": {
      "text/html": [
       "<div>\n",
       "<style scoped>\n",
       "    .dataframe tbody tr th:only-of-type {\n",
       "        vertical-align: middle;\n",
       "    }\n",
       "\n",
       "    .dataframe tbody tr th {\n",
       "        vertical-align: top;\n",
       "    }\n",
       "\n",
       "    .dataframe thead th {\n",
       "        text-align: right;\n",
       "    }\n",
       "</style>\n",
       "<table border=\"1\" class=\"dataframe\">\n",
       "  <thead>\n",
       "    <tr style=\"text-align: right;\">\n",
       "      <th></th>\n",
       "      <th>a</th>\n",
       "      <th>b</th>\n",
       "      <th>c</th>\n",
       "      <th>d</th>\n",
       "      <th>e</th>\n",
       "    </tr>\n",
       "  </thead>\n",
       "  <tbody>\n",
       "    <tr>\n",
       "      <th>0</th>\n",
       "      <td>-0.097576</td>\n",
       "      <td>-1.120875</td>\n",
       "      <td>-0.312094</td>\n",
       "      <td>0.514427</td>\n",
       "      <td>-1.541425</td>\n",
       "    </tr>\n",
       "    <tr>\n",
       "      <th>1</th>\n",
       "      <td>-0.045853</td>\n",
       "      <td>0.655761</td>\n",
       "      <td>0.140831</td>\n",
       "      <td>0.261590</td>\n",
       "      <td>-0.473524</td>\n",
       "    </tr>\n",
       "    <tr>\n",
       "      <th>2</th>\n",
       "      <td>-1.767341</td>\n",
       "      <td>-0.649096</td>\n",
       "      <td>-0.835579</td>\n",
       "      <td>-0.602586</td>\n",
       "      <td>-0.454673</td>\n",
       "    </tr>\n",
       "    <tr>\n",
       "      <th>3</th>\n",
       "      <td>0.068924</td>\n",
       "      <td>-0.135297</td>\n",
       "      <td>0.199103</td>\n",
       "      <td>-1.705339</td>\n",
       "      <td>0.463792</td>\n",
       "    </tr>\n",
       "    <tr>\n",
       "      <th>4</th>\n",
       "      <td>0.582642</td>\n",
       "      <td>0.305750</td>\n",
       "      <td>1.140266</td>\n",
       "      <td>-0.523656</td>\n",
       "      <td>1.404392</td>\n",
       "    </tr>\n",
       "    <tr>\n",
       "      <th>5</th>\n",
       "      <td>0.084259</td>\n",
       "      <td>0.685722</td>\n",
       "      <td>0.421354</td>\n",
       "      <td>0.085446</td>\n",
       "      <td>-1.680381</td>\n",
       "    </tr>\n",
       "    <tr>\n",
       "      <th>6</th>\n",
       "      <td>-0.485864</td>\n",
       "      <td>1.033595</td>\n",
       "      <td>0.601249</td>\n",
       "      <td>-1.960340</td>\n",
       "      <td>0.523174</td>\n",
       "    </tr>\n",
       "    <tr>\n",
       "      <th>7</th>\n",
       "      <td>-1.628304</td>\n",
       "      <td>-1.250041</td>\n",
       "      <td>0.678563</td>\n",
       "      <td>-0.542611</td>\n",
       "      <td>-0.786600</td>\n",
       "    </tr>\n",
       "  </tbody>\n",
       "</table>\n",
       "</div>"
      ],
      "text/plain": [
       "          a         b         c         d         e\n",
       "0 -0.097576 -1.120875 -0.312094  0.514427 -1.541425\n",
       "1 -0.045853  0.655761  0.140831  0.261590 -0.473524\n",
       "2 -1.767341 -0.649096 -0.835579 -0.602586 -0.454673\n",
       "3  0.068924 -0.135297  0.199103 -1.705339  0.463792\n",
       "4  0.582642  0.305750  1.140266 -0.523656  1.404392\n",
       "5  0.084259  0.685722  0.421354  0.085446 -1.680381\n",
       "6 -0.485864  1.033595  0.601249 -1.960340  0.523174\n",
       "7 -1.628304 -1.250041  0.678563 -0.542611 -0.786600"
      ]
     },
     "execution_count": 8,
     "metadata": {},
     "output_type": "execute_result"
    }
   ],
   "source": [
    "df1"
   ]
  },
  {
   "cell_type": "code",
   "execution_count": 9,
   "metadata": {},
   "outputs": [
    {
     "data": {
      "text/html": [
       "<div>\n",
       "<style scoped>\n",
       "    .dataframe tbody tr th:only-of-type {\n",
       "        vertical-align: middle;\n",
       "    }\n",
       "\n",
       "    .dataframe tbody tr th {\n",
       "        vertical-align: top;\n",
       "    }\n",
       "\n",
       "    .dataframe thead th {\n",
       "        text-align: right;\n",
       "    }\n",
       "</style>\n",
       "<table border=\"1\" class=\"dataframe\">\n",
       "  <thead>\n",
       "    <tr style=\"text-align: right;\">\n",
       "      <th></th>\n",
       "      <th>a</th>\n",
       "      <th>b</th>\n",
       "      <th>c</th>\n",
       "      <th>d</th>\n",
       "      <th>e</th>\n",
       "    </tr>\n",
       "  </thead>\n",
       "  <tbody>\n",
       "    <tr>\n",
       "      <th>2</th>\n",
       "      <td>-1.767341</td>\n",
       "      <td>-0.649096</td>\n",
       "      <td>-0.835579</td>\n",
       "      <td>-0.602586</td>\n",
       "      <td>-0.454673</td>\n",
       "    </tr>\n",
       "    <tr>\n",
       "      <th>7</th>\n",
       "      <td>-1.628304</td>\n",
       "      <td>-1.250041</td>\n",
       "      <td>0.678563</td>\n",
       "      <td>-0.542611</td>\n",
       "      <td>-0.786600</td>\n",
       "    </tr>\n",
       "    <tr>\n",
       "      <th>6</th>\n",
       "      <td>-0.485864</td>\n",
       "      <td>1.033595</td>\n",
       "      <td>0.601249</td>\n",
       "      <td>-1.960340</td>\n",
       "      <td>0.523174</td>\n",
       "    </tr>\n",
       "    <tr>\n",
       "      <th>0</th>\n",
       "      <td>-0.097576</td>\n",
       "      <td>-1.120875</td>\n",
       "      <td>-0.312094</td>\n",
       "      <td>0.514427</td>\n",
       "      <td>-1.541425</td>\n",
       "    </tr>\n",
       "    <tr>\n",
       "      <th>1</th>\n",
       "      <td>-0.045853</td>\n",
       "      <td>0.655761</td>\n",
       "      <td>0.140831</td>\n",
       "      <td>0.261590</td>\n",
       "      <td>-0.473524</td>\n",
       "    </tr>\n",
       "    <tr>\n",
       "      <th>3</th>\n",
       "      <td>0.068924</td>\n",
       "      <td>-0.135297</td>\n",
       "      <td>0.199103</td>\n",
       "      <td>-1.705339</td>\n",
       "      <td>0.463792</td>\n",
       "    </tr>\n",
       "    <tr>\n",
       "      <th>5</th>\n",
       "      <td>0.084259</td>\n",
       "      <td>0.685722</td>\n",
       "      <td>0.421354</td>\n",
       "      <td>0.085446</td>\n",
       "      <td>-1.680381</td>\n",
       "    </tr>\n",
       "    <tr>\n",
       "      <th>4</th>\n",
       "      <td>0.582642</td>\n",
       "      <td>0.305750</td>\n",
       "      <td>1.140266</td>\n",
       "      <td>-0.523656</td>\n",
       "      <td>1.404392</td>\n",
       "    </tr>\n",
       "  </tbody>\n",
       "</table>\n",
       "</div>"
      ],
      "text/plain": [
       "          a         b         c         d         e\n",
       "2 -1.767341 -0.649096 -0.835579 -0.602586 -0.454673\n",
       "7 -1.628304 -1.250041  0.678563 -0.542611 -0.786600\n",
       "6 -0.485864  1.033595  0.601249 -1.960340  0.523174\n",
       "0 -0.097576 -1.120875 -0.312094  0.514427 -1.541425\n",
       "1 -0.045853  0.655761  0.140831  0.261590 -0.473524\n",
       "3  0.068924 -0.135297  0.199103 -1.705339  0.463792\n",
       "5  0.084259  0.685722  0.421354  0.085446 -1.680381\n",
       "4  0.582642  0.305750  1.140266 -0.523656  1.404392"
      ]
     },
     "execution_count": 9,
     "metadata": {},
     "output_type": "execute_result"
    }
   ],
   "source": [
    "df1.sort_values(\"a\")"
   ]
  },
  {
   "cell_type": "code",
   "execution_count": null,
   "metadata": {},
   "outputs": [],
   "source": []
  }
 ],
 "metadata": {
  "kernelspec": {
   "display_name": "Python 3",
   "language": "python",
   "name": "python3"
  },
  "language_info": {
   "codemirror_mode": {
    "name": "ipython",
    "version": 3
   },
   "file_extension": ".py",
   "mimetype": "text/x-python",
   "name": "python",
   "nbconvert_exporter": "python",
   "pygments_lexer": "ipython3",
   "version": "3.6.6"
  }
 },
 "nbformat": 4,
 "nbformat_minor": 2
}
