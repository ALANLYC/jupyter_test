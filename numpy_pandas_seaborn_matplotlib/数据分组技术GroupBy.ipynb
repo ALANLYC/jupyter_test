{
 "cells": [
  {
   "cell_type": "code",
   "execution_count": 1,
   "metadata": {},
   "outputs": [],
   "source": [
    "import numpy as np\n",
    "import pandas as pd\n",
    "from pandas import Series,DataFrame"
   ]
  },
  {
   "cell_type": "code",
   "execution_count": null,
   "metadata": {},
   "outputs": [],
   "source": [
    "#通过read_csv导入文件，类型为DataFrame\n",
    "\n",
    "#df.groupby(需要操作的列，可以为多个列，输入为列表） \n",
    "\n",
    "#返回值可进行groups:查看组的个数\n",
    "            #get_group()过滤某个组\n",
    "            #可以进行平均值，求和，最大值，最小值等操作，返回值为series\n",
    "            #对整个组进行算术操作时返回值为DataFrame类型\n",
    "            #groupby=split+apply+combine\n",
    "            #可以将groupby转换为python的list或者字典"
   ]
  }
 ],
 "metadata": {
  "kernelspec": {
   "display_name": "Python 3",
   "language": "python",
   "name": "python3"
  },
  "language_info": {
   "codemirror_mode": {
    "name": "ipython",
    "version": 3
   },
   "file_extension": ".py",
   "mimetype": "text/x-python",
   "name": "python",
   "nbconvert_exporter": "python",
   "pygments_lexer": "ipython3",
   "version": "3.6.6"
  }
 },
 "nbformat": 4,
 "nbformat_minor": 2
}
