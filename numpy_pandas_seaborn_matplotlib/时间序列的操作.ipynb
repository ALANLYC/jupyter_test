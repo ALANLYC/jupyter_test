{
 "cells": [
  {
   "cell_type": "code",
   "execution_count": 1,
   "metadata": {},
   "outputs": [],
   "source": [
    "import numpy as np\n",
    "import pandas as pd\n",
    "from pandas import Series,DataFrame"
   ]
  },
  {
   "cell_type": "code",
   "execution_count": 2,
   "metadata": {},
   "outputs": [],
   "source": [
    "from datetime import datetime"
   ]
  },
  {
   "cell_type": "code",
   "execution_count": 3,
   "metadata": {},
   "outputs": [],
   "source": [
    "t1 = datetime(2019,4,28)"
   ]
  },
  {
   "cell_type": "code",
   "execution_count": 4,
   "metadata": {},
   "outputs": [
    {
     "data": {
      "text/plain": [
       "datetime.datetime(2019, 4, 28, 0, 0)"
      ]
     },
     "execution_count": 4,
     "metadata": {},
     "output_type": "execute_result"
    }
   ],
   "source": [
    "t1"
   ]
  },
  {
   "cell_type": "code",
   "execution_count": 6,
   "metadata": {},
   "outputs": [],
   "source": [
    "date_list = [\n",
    "    datetime(2019,4,28),\n",
    "    datetime(2019,4,29),\n",
    "    datetime(2019,4,30),\n",
    "    datetime(2019,4,20),\n",
    "    datetime(2019,4,19),\n",
    "    datetime(2019,4,18),\n",
    "    datetime(2019,4,17)\n",
    "]"
   ]
  },
  {
   "cell_type": "code",
   "execution_count": 8,
   "metadata": {},
   "outputs": [],
   "source": [
    "s1 = Series(np.random.rand(7),index=date_list)"
   ]
  },
  {
   "cell_type": "code",
   "execution_count": 9,
   "metadata": {},
   "outputs": [
    {
     "data": {
      "text/plain": [
       "2019-04-28    0.721571\n",
       "2019-04-29    0.037033\n",
       "2019-04-30    0.840443\n",
       "2019-04-20    0.850140\n",
       "2019-04-19    0.485093\n",
       "2019-04-18    0.825156\n",
       "2019-04-17    0.927307\n",
       "dtype: float64"
      ]
     },
     "execution_count": 9,
     "metadata": {},
     "output_type": "execute_result"
    }
   ],
   "source": [
    "s1"
   ]
  },
  {
   "cell_type": "code",
   "execution_count": 11,
   "metadata": {},
   "outputs": [
    {
     "data": {
      "text/plain": [
       "array([0.72157052, 0.03703296, 0.84044271, 0.85014037, 0.48509263,\n",
       "       0.82515628, 0.92730667])"
      ]
     },
     "execution_count": 11,
     "metadata": {},
     "output_type": "execute_result"
    }
   ],
   "source": [
    "s1.values\n"
   ]
  },
  {
   "cell_type": "code",
   "execution_count": 12,
   "metadata": {},
   "outputs": [
    {
     "data": {
      "text/plain": [
       "DatetimeIndex(['2019-04-28', '2019-04-29', '2019-04-30', '2019-04-20',\n",
       "               '2019-04-19', '2019-04-18', '2019-04-17'],\n",
       "              dtype='datetime64[ns]', freq=None)"
      ]
     },
     "execution_count": 12,
     "metadata": {},
     "output_type": "execute_result"
    }
   ],
   "source": [
    "s1.index"
   ]
  },
  {
   "cell_type": "code",
   "execution_count": 14,
   "metadata": {},
   "outputs": [
    {
     "data": {
      "text/plain": [
       "0.037032957200508476"
      ]
     },
     "execution_count": 14,
     "metadata": {},
     "output_type": "execute_result"
    }
   ],
   "source": [
    "s1[1]"
   ]
  },
  {
   "cell_type": "code",
   "execution_count": 15,
   "metadata": {},
   "outputs": [
    {
     "data": {
      "text/plain": [
       "0.8404427146594261"
      ]
     },
     "execution_count": 15,
     "metadata": {},
     "output_type": "execute_result"
    }
   ],
   "source": [
    "s1[datetime(2019,4,30)]"
   ]
  },
  {
   "cell_type": "code",
   "execution_count": 16,
   "metadata": {},
   "outputs": [
    {
     "data": {
      "text/plain": [
       "2019-04-28    0.721571\n",
       "dtype: float64"
      ]
     },
     "execution_count": 16,
     "metadata": {},
     "output_type": "execute_result"
    }
   ],
   "source": [
    "s1['2019-04-28']"
   ]
  },
  {
   "cell_type": "code",
   "execution_count": 17,
   "metadata": {},
   "outputs": [
    {
     "data": {
      "text/plain": [
       "2019-04-20    0.85014\n",
       "dtype: float64"
      ]
     },
     "execution_count": 17,
     "metadata": {},
     "output_type": "execute_result"
    }
   ],
   "source": [
    "s1['20190420']"
   ]
  },
  {
   "cell_type": "code",
   "execution_count": 20,
   "metadata": {},
   "outputs": [
    {
     "data": {
      "text/plain": [
       "2019-04-28    0.721571\n",
       "2019-04-29    0.037033\n",
       "2019-04-30    0.840443\n",
       "2019-04-20    0.850140\n",
       "2019-04-19    0.485093\n",
       "2019-04-18    0.825156\n",
       "2019-04-17    0.927307\n",
       "dtype: float64"
      ]
     },
     "execution_count": 20,
     "metadata": {},
     "output_type": "execute_result"
    }
   ],
   "source": [
    "s1['2019-04']"
   ]
  },
  {
   "cell_type": "code",
   "execution_count": 21,
   "metadata": {},
   "outputs": [
    {
     "data": {
      "text/plain": [
       "Series([], dtype: float64)"
      ]
     },
     "execution_count": 21,
     "metadata": {},
     "output_type": "execute_result"
    }
   ],
   "source": [
    "s1['2016']"
   ]
  },
  {
   "cell_type": "code",
   "execution_count": 28,
   "metadata": {},
   "outputs": [],
   "source": [
    "date_list_new = pd.date_range('2019-04-01',periods=100,freq=\"5H\")"
   ]
  },
  {
   "cell_type": "code",
   "execution_count": 30,
   "metadata": {},
   "outputs": [],
   "source": [
    "s2 = Series(np.random.rand(100),index=date_list_new)"
   ]
  },
  {
   "cell_type": "code",
   "execution_count": 31,
   "metadata": {},
   "outputs": [
    {
     "data": {
      "text/plain": [
       "2019-04-01 00:00:00    0.207404\n",
       "2019-04-01 05:00:00    0.227077\n",
       "2019-04-01 10:00:00    0.504728\n",
       "2019-04-01 15:00:00    0.162120\n",
       "2019-04-01 20:00:00    0.835192\n",
       "2019-04-02 01:00:00    0.412784\n",
       "2019-04-02 06:00:00    0.602446\n",
       "2019-04-02 11:00:00    0.529136\n",
       "2019-04-02 16:00:00    0.121732\n",
       "2019-04-02 21:00:00    0.095393\n",
       "2019-04-03 02:00:00    0.339125\n",
       "2019-04-03 07:00:00    0.768161\n",
       "2019-04-03 12:00:00    0.060813\n",
       "2019-04-03 17:00:00    0.526718\n",
       "2019-04-03 22:00:00    0.694039\n",
       "2019-04-04 03:00:00    0.840403\n",
       "2019-04-04 08:00:00    0.727004\n",
       "2019-04-04 13:00:00    0.893808\n",
       "2019-04-04 18:00:00    0.980082\n",
       "2019-04-04 23:00:00    0.270120\n",
       "2019-04-05 04:00:00    0.742826\n",
       "2019-04-05 09:00:00    0.029444\n",
       "2019-04-05 14:00:00    0.484668\n",
       "2019-04-05 19:00:00    0.126740\n",
       "2019-04-06 00:00:00    0.481217\n",
       "2019-04-06 05:00:00    0.291373\n",
       "2019-04-06 10:00:00    0.949772\n",
       "2019-04-06 15:00:00    0.600635\n",
       "2019-04-06 20:00:00    0.021815\n",
       "2019-04-07 01:00:00    0.737546\n",
       "                         ...   \n",
       "2019-04-15 14:00:00    0.315404\n",
       "2019-04-15 19:00:00    0.338410\n",
       "2019-04-16 00:00:00    0.301143\n",
       "2019-04-16 05:00:00    0.869092\n",
       "2019-04-16 10:00:00    0.557920\n",
       "2019-04-16 15:00:00    0.308089\n",
       "2019-04-16 20:00:00    0.178740\n",
       "2019-04-17 01:00:00    0.535015\n",
       "2019-04-17 06:00:00    0.586383\n",
       "2019-04-17 11:00:00    0.707719\n",
       "2019-04-17 16:00:00    0.649857\n",
       "2019-04-17 21:00:00    0.846649\n",
       "2019-04-18 02:00:00    0.377462\n",
       "2019-04-18 07:00:00    0.111474\n",
       "2019-04-18 12:00:00    0.599156\n",
       "2019-04-18 17:00:00    0.743517\n",
       "2019-04-18 22:00:00    0.212260\n",
       "2019-04-19 03:00:00    0.777909\n",
       "2019-04-19 08:00:00    0.717126\n",
       "2019-04-19 13:00:00    0.029131\n",
       "2019-04-19 18:00:00    0.071272\n",
       "2019-04-19 23:00:00    0.370245\n",
       "2019-04-20 04:00:00    0.843338\n",
       "2019-04-20 09:00:00    0.740868\n",
       "2019-04-20 14:00:00    0.165456\n",
       "2019-04-20 19:00:00    0.410411\n",
       "2019-04-21 00:00:00    0.731419\n",
       "2019-04-21 05:00:00    0.066504\n",
       "2019-04-21 10:00:00    0.348177\n",
       "2019-04-21 15:00:00    0.724555\n",
       "Freq: 5H, Length: 100, dtype: float64"
      ]
     },
     "execution_count": 31,
     "metadata": {},
     "output_type": "execute_result"
    }
   ],
   "source": [
    "s2"
   ]
  },
  {
   "cell_type": "code",
   "execution_count": 33,
   "metadata": {},
   "outputs": [
    {
     "data": {
      "text/plain": [
       "2019-04-01 00:00:00    0.207404\n",
       "2019-04-01 05:00:00    0.227077\n",
       "2019-04-01 10:00:00    0.504728\n",
       "2019-04-01 15:00:00    0.162120\n",
       "2019-04-01 20:00:00    0.835192\n",
       "2019-04-02 01:00:00    0.412784\n",
       "2019-04-02 06:00:00    0.602446\n",
       "2019-04-02 11:00:00    0.529136\n",
       "2019-04-02 16:00:00    0.121732\n",
       "2019-04-02 21:00:00    0.095393\n",
       "Freq: 5H, dtype: float64"
      ]
     },
     "execution_count": 33,
     "metadata": {},
     "output_type": "execute_result"
    }
   ],
   "source": [
    "s2.head(10)"
   ]
  },
  {
   "cell_type": "code",
   "execution_count": null,
   "metadata": {},
   "outputs": [],
   "source": []
  }
 ],
 "metadata": {
  "kernelspec": {
   "display_name": "Python 3",
   "language": "python",
   "name": "python3"
  },
  "language_info": {
   "codemirror_mode": {
    "name": "ipython",
    "version": 3
   },
   "file_extension": ".py",
   "mimetype": "text/x-python",
   "name": "python",
   "nbconvert_exporter": "python",
   "pygments_lexer": "ipython3",
   "version": "3.6.6"
  }
 },
 "nbformat": 4,
 "nbformat_minor": 2
}
