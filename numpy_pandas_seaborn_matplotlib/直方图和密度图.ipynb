{
 "cells": [
  {
   "cell_type": "code",
   "execution_count": 1,
   "metadata": {},
   "outputs": [],
   "source": [
    "import numpy as np\n",
    "import pandas as pd\n",
    "import matplotlib.pyplot as plt\n",
    "from pandas import Series,DataFrame"
   ]
  },
  {
   "cell_type": "markdown",
   "metadata": {},
   "source": [
    "# 直方图"
   ]
  },
  {
   "cell_type": "code",
   "execution_count": 4,
   "metadata": {},
   "outputs": [],
   "source": [
    "s = Series(np.random.randn(1000))"
   ]
  },
  {
   "cell_type": "code",
   "execution_count": 10,
   "metadata": {},
   "outputs": [
    {
     "data": {
      "text/plain": [
       "(array([  3.,   4.,  15.,  24.,  41.,  69.,  87., 123., 139., 147., 106.,\n",
       "         93.,  58.,  43.,  29.,  13.,   3.,   1.,   1.,   1.]),\n",
       " array([-3.09134315e+00, -2.74756461e+00, -2.40378607e+00, -2.06000753e+00,\n",
       "        -1.71622900e+00, -1.37245046e+00, -1.02867192e+00, -6.84893383e-01,\n",
       "        -3.41114845e-01,  2.66369249e-03,  3.46442230e-01,  6.90220768e-01,\n",
       "         1.03399931e+00,  1.37777784e+00,  1.72155638e+00,  2.06533492e+00,\n",
       "         2.40911346e+00,  2.75289200e+00,  3.09667053e+00,  3.44044907e+00,\n",
       "         3.78422761e+00]),\n",
       " <a list of 20 Patch objects>)"
      ]
     },
     "execution_count": 10,
     "metadata": {},
     "output_type": "execute_result"
    },
    {
     "data": {
      "image/png": "[encoded data removed]",
      "text/plain": [
       "<Figure size 432x288 with 1 Axes>"
      ]
     },
     "metadata": {
      "needs_background": "light"
     },
     "output_type": "display_data"
    }
   ],
   "source": [
    "plt.hist(s,rwidth = 0.9,bins=20,color='y')"
   ]
  },
  {
   "cell_type": "code",
   "execution_count": 8,
   "metadata": {},
   "outputs": [
    {
     "data": {
      "text/plain": [
       "0      0.546749\n",
       "1      0.776596\n",
       "2     -0.239206\n",
       "3      0.170645\n",
       "4     -0.320957\n",
       "5     -0.441312\n",
       "6     -0.574352\n",
       "7      1.745438\n",
       "8     -0.567179\n",
       "9      0.053516\n",
       "10    -1.285353\n",
       "11     0.526560\n",
       "12     0.087335\n",
       "13     0.196226\n",
       "14     0.491659\n",
       "15     0.904785\n",
       "16     0.721225\n",
       "17    -0.357743\n",
       "18     1.949782\n",
       "19    -0.182958\n",
       "20     0.474084\n",
       "21    -0.761934\n",
       "22    -1.249748\n",
       "23    -0.398567\n",
       "24     0.681135\n",
       "25     0.155716\n",
       "26     1.586210\n",
       "27     1.670014\n",
       "28     0.269718\n",
       "29     1.247674\n",
       "         ...   \n",
       "970   -0.472375\n",
       "971    0.274826\n",
       "972   -0.188433\n",
       "973    0.145082\n",
       "974    0.836905\n",
       "975    1.904410\n",
       "976   -0.590384\n",
       "977    0.715102\n",
       "978   -1.399923\n",
       "979   -0.457955\n",
       "980   -1.139366\n",
       "981   -0.227293\n",
       "982    0.035667\n",
       "983    0.507742\n",
       "984    1.274403\n",
       "985    0.721295\n",
       "986    0.845509\n",
       "987   -0.422960\n",
       "988   -1.313713\n",
       "989    1.533280\n",
       "990   -0.229363\n",
       "991    0.588758\n",
       "992    0.411256\n",
       "993   -1.907355\n",
       "994    0.878505\n",
       "995   -1.811617\n",
       "996    1.559567\n",
       "997   -1.912298\n",
       "998    0.418391\n",
       "999    1.689973\n",
       "Length: 1000, dtype: float64"
      ]
     },
     "execution_count": 8,
     "metadata": {},
     "output_type": "execute_result"
    }
   ],
   "source": [
    "s"
   ]
  },
  {
   "cell_type": "markdown",
   "metadata": {},
   "source": [
    "# 密度图"
   ]
  },
  {
   "cell_type": "code",
   "execution_count": 12,
   "metadata": {},
   "outputs": [
    {
     "data": {
      "text/plain": [
       "<matplotlib.axes._subplots.AxesSubplot at 0x25b84246a20>"
      ]
     },
     "execution_count": 12,
     "metadata": {},
     "output_type": "execute_result"
    },
    {
     "data": {
      "image/png": "[encoded data removed]",
      "text/plain": [
       "<Figure size 432x288 with 1 Axes>"
      ]
     },
     "metadata": {
      "needs_background": "light"
     },
     "output_type": "display_data"
    }
   ],
   "source": [
    "s.plot(kind='kde')"
   ]
  },
  {
   "cell_type": "code",
   "execution_count": null,
   "metadata": {},
   "outputs": [],
   "source": []
  }
 ],
 "metadata": {
  "kernelspec": {
   "display_name": "Python 3",
   "language": "python",
   "name": "python3"
  },
  "language_info": {
   "codemirror_mode": {
    "name": "ipython",
    "version": 3
   },
   "file_extension": ".py",
   "mimetype": "text/x-python",
   "name": "python",
   "nbconvert_exporter": "python",
   "pygments_lexer": "ipython3",
   "version": "3.6.6"
  }
 },
 "nbformat": 4,
 "nbformat_minor": 2
}
